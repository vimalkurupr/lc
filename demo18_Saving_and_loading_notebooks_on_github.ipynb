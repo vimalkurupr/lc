{
  "nbformat": 4,
  "nbformat_minor": 0,
  "metadata": {
    "colab": {
      "name": "demo18-Saving and loading notebooks on github.ipynb",
      "version": "0.3.2",
      "provenance": [],
      "include_colab_link": true
    },
    "kernelspec": {
      "name": "python3",
      "display_name": "Python 3"
    }
  },
  "cells": [
    {
      "cell_type": "markdown",
      "metadata": {
        "id": "view-in-github",
        "colab_type": "text"
      },
      "source": [
        "<a href=\"https://colab.research.google.com/github/vimalkurupr/lc/blob/master/demo18_Saving_and_loading_notebooks_on_github.ipynb\" target=\"_parent\"><img src=\"https://colab.research.google.com/assets/colab-badge.svg\" alt=\"Open In Colab\"/></a>"
      ]
    },
    {
      "cell_type": "markdown",
      "metadata": {
        "id": "TYhTI2cdgGOv",
        "colab_type": "text"
      },
      "source": [
        "**Loading notebooks from github**"
      ]
    },
    {
      "cell_type": "markdown",
      "metadata": {
        "id": "x_v4swC7gn8-",
        "colab_type": "text"
      },
      "source": [
        "Add \"open in colab\" in chrome:  [open in colab](https://chrome.google.com/webstore/detail/open-in-colab/iogfkhleblhcpcekbiedikdehleodpjo)           \n",
        "Open in colab is an extension."
      ]
    },
    {
      "cell_type": "code",
      "metadata": {
        "id": "38iMenOLgtof",
        "colab_type": "code",
        "colab": {}
      },
      "source": [
        "!git clone https://github.com/gsurma/image_classifier.git"
      ],
      "execution_count": 0,
      "outputs": []
    },
    {
      "cell_type": "code",
      "metadata": {
        "id": "YfV8E6V6oqIa",
        "colab_type": "code",
        "colab": {
          "base_uri": "https://localhost:8080/",
          "height": 34
        },
        "outputId": "0f843436-ceb7-4b96-f445-e46729f697df"
      },
      "source": [
        "!ls"
      ],
      "execution_count": 5,
      "outputs": [
        {
          "output_type": "stream",
          "text": [
            "drive  image_classifier  requirements.txt  sample_data\ttitanic_dataset.csv\n"
          ],
          "name": "stdout"
        }
      ]
    },
    {
      "cell_type": "code",
      "metadata": {
        "id": "xbxFaY6kotpD",
        "colab_type": "code",
        "colab": {}
      },
      "source": [
        ""
      ],
      "execution_count": 0,
      "outputs": []
    },
    {
      "cell_type": "markdown",
      "metadata": {
        "id": "sFDLaNbgpZvv",
        "colab_type": "text"
      },
      "source": [
        "Linking private github pages with colab: [link text](http://colab.research.google.com/github )"
      ]
    },
    {
      "cell_type": "code",
      "metadata": {
        "id": "ghqtlsudpeSp",
        "colab_type": "code",
        "colab": {}
      },
      "source": [
        ""
      ],
      "execution_count": 0,
      "outputs": []
    }
  ]
}